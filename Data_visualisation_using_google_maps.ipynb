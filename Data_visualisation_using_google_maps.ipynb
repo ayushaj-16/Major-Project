{
 "cells": [
  {
   "cell_type": "code",
   "execution_count": 2,
   "id": "f9caf8ad",
   "metadata": {},
   "outputs": [],
   "source": [
    "import pandas as pd\n",
    "import gmplot"
   ]
  },
  {
   "cell_type": "code",
   "execution_count": 56,
   "id": "73798323",
   "metadata": {
    "scrolled": true
   },
   "outputs": [
    {
     "data": {
      "text/html": [
       "<div>\n",
       "<style scoped>\n",
       "    .dataframe tbody tr th:only-of-type {\n",
       "        vertical-align: middle;\n",
       "    }\n",
       "\n",
       "    .dataframe tbody tr th {\n",
       "        vertical-align: top;\n",
       "    }\n",
       "\n",
       "    .dataframe thead th {\n",
       "        text-align: right;\n",
       "    }\n",
       "</style>\n",
       "<table border=\"1\" class=\"dataframe\">\n",
       "  <thead>\n",
       "    <tr style=\"text-align: right;\">\n",
       "      <th></th>\n",
       "      <th>Latitude</th>\n",
       "      <th>Longitude</th>\n",
       "    </tr>\n",
       "  </thead>\n",
       "  <tbody>\n",
       "    <tr>\n",
       "      <th>0</th>\n",
       "      <td>41.748523</td>\n",
       "      <td>-87.664042</td>\n",
       "    </tr>\n",
       "    <tr>\n",
       "      <th>1</th>\n",
       "      <td>41.748639</td>\n",
       "      <td>-87.616470</td>\n",
       "    </tr>\n",
       "    <tr>\n",
       "      <th>2</th>\n",
       "      <td>41.880748</td>\n",
       "      <td>-87.723882</td>\n",
       "    </tr>\n",
       "    <tr>\n",
       "      <th>3</th>\n",
       "      <td>41.807114</td>\n",
       "      <td>-87.608934</td>\n",
       "    </tr>\n",
       "    <tr>\n",
       "      <th>4</th>\n",
       "      <td>41.765387</td>\n",
       "      <td>-87.632827</td>\n",
       "    </tr>\n",
       "    <tr>\n",
       "      <th>...</th>\n",
       "      <td>...</td>\n",
       "      <td>...</td>\n",
       "    </tr>\n",
       "    <tr>\n",
       "      <th>245</th>\n",
       "      <td>41.939616</td>\n",
       "      <td>-87.695241</td>\n",
       "    </tr>\n",
       "    <tr>\n",
       "      <th>246</th>\n",
       "      <td>41.894861</td>\n",
       "      <td>-87.629206</td>\n",
       "    </tr>\n",
       "    <tr>\n",
       "      <th>247</th>\n",
       "      <td>41.829303</td>\n",
       "      <td>-87.683455</td>\n",
       "    </tr>\n",
       "    <tr>\n",
       "      <th>248</th>\n",
       "      <td>41.988719</td>\n",
       "      <td>-87.668384</td>\n",
       "    </tr>\n",
       "    <tr>\n",
       "      <th>249</th>\n",
       "      <td>41.893845</td>\n",
       "      <td>-87.770800</td>\n",
       "    </tr>\n",
       "  </tbody>\n",
       "</table>\n",
       "<p>250 rows × 2 columns</p>\n",
       "</div>"
      ],
      "text/plain": [
       "      Latitude  Longitude\n",
       "0    41.748523 -87.664042\n",
       "1    41.748639 -87.616470\n",
       "2    41.880748 -87.723882\n",
       "3    41.807114 -87.608934\n",
       "4    41.765387 -87.632827\n",
       "..         ...        ...\n",
       "245  41.939616 -87.695241\n",
       "246  41.894861 -87.629206\n",
       "247  41.829303 -87.683455\n",
       "248  41.988719 -87.668384\n",
       "249  41.893845 -87.770800\n",
       "\n",
       "[250 rows x 2 columns]"
      ]
     },
     "execution_count": 56,
     "metadata": {},
     "output_type": "execute_result"
    }
   ],
   "source": [
    "data = pd.read_csv('input_250.txt', delimiter=' ')\n",
    "data"
   ]
  },
  {
   "cell_type": "code",
   "execution_count": 55,
   "id": "3383dcee",
   "metadata": {},
   "outputs": [],
   "source": [
    "gmap3 = gmplot.GoogleMapPlotter('41.8781', '-87.6298',10)\n",
    "gmap3.scatter(data['Latitude'].values, data['Longitude'].values, color='green')\n",
    "circles = pd.read_csv('circle__hood.csv')\n",
    "p = 0\n",
    "for i in circles.values:\n",
    "    if p == 0:\n",
    "        gmap3.circle(i[0], i[1], i[2], face_alpha=0.5, ew=3, color='red')\n",
    "        p += 1\n",
    "    else:\n",
    "        gmap3.circle(i[0], i[1], i[2], face_alpha=0, ew=3, color='yellow')\n",
    "gmap3.draw(\"map13.html\")"
   ]
  }
 ],
 "metadata": {
  "kernelspec": {
   "display_name": "Python 3",
   "language": "python",
   "name": "python3"
  },
  "language_info": {
   "codemirror_mode": {
    "name": "ipython",
    "version": 3
   },
   "file_extension": ".py",
   "mimetype": "text/x-python",
   "name": "python",
   "nbconvert_exporter": "python",
   "pygments_lexer": "ipython3",
   "version": "3.9.6"
  }
 },
 "nbformat": 4,
 "nbformat_minor": 5
}
