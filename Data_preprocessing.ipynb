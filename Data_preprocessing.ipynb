{
 "cells": [
  {
   "cell_type": "code",
   "execution_count": 1,
   "id": "a6da7e90",
   "metadata": {},
   "outputs": [],
   "source": [
    "import pandas as pd\n",
    "from random import randint"
   ]
  },
  {
   "cell_type": "code",
   "execution_count": 2,
   "id": "6a155f64",
   "metadata": {},
   "outputs": [],
   "source": [
    "df = pd.read_csv('raw_data.csv')"
   ]
  },
  {
   "cell_type": "code",
   "execution_count": 3,
   "id": "84494bad",
   "metadata": {},
   "outputs": [],
   "source": [
    "df = df[['Latitude', 'Longitude']]"
   ]
  },
  {
   "cell_type": "code",
   "execution_count": 4,
   "id": "5a40b07a",
   "metadata": {},
   "outputs": [],
   "source": [
    "df = df.dropna()"
   ]
  },
  {
   "cell_type": "code",
   "execution_count": 5,
   "id": "aaae64b8",
   "metadata": {
    "scrolled": true
   },
   "outputs": [
    {
     "data": {
      "text/plain": [
       "array([ 41.76939989, -87.69070581])"
      ]
     },
     "execution_count": 5,
     "metadata": {},
     "output_type": "execute_result"
    }
   ],
   "source": [
    "df.iloc[1].values"
   ]
  },
  {
   "cell_type": "code",
   "execution_count": 6,
   "id": "8ca58fab",
   "metadata": {},
   "outputs": [],
   "source": [
    "fin = []\n",
    "s = set()"
   ]
  },
  {
   "cell_type": "code",
   "execution_count": 9,
   "id": "b452362a",
   "metadata": {},
   "outputs": [],
   "source": [
    "i = 0\n",
    "while i < 200:\n",
    "    x = int(randint(0, len(df)))\n",
    "    if x not in s:\n",
    "        fin.append(df.iloc[x].values)\n",
    "        i += 1"
   ]
  },
  {
   "cell_type": "code",
   "execution_count": 10,
   "id": "ac5ba205",
   "metadata": {},
   "outputs": [],
   "source": [
    "with open('input_200.txt','w') as f:\n",
    "    f.write('Latitude Longitude\\n')\n",
    "    for i in fin:\n",
    "        f.write(f'{str(i[0])} {str(i[1])}\\n')"
   ]
  }
 ],
 "metadata": {
  "kernelspec": {
   "display_name": "Python 3",
   "language": "python",
   "name": "python3"
  },
  "language_info": {
   "codemirror_mode": {
    "name": "ipython",
    "version": 3
   },
   "file_extension": ".py",
   "mimetype": "text/x-python",
   "name": "python",
   "nbconvert_exporter": "python",
   "pygments_lexer": "ipython3",
   "version": "3.9.6"
  }
 },
 "nbformat": 4,
 "nbformat_minor": 5
}
